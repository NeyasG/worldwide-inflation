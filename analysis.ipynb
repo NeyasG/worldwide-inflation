{
 "cells": [
  {
   "cell_type": "markdown",
   "metadata": {},
   "source": [
    "# Goals\n",
    "\n",
    "1. Inflation Rate and Interest Rate in the UK, \n",
    "2. Compare the US and UK interest rate and inflation filled in line charts\n",
    "3. Static plot of the 2023 inflation rates worldwide"
   ]
  },
  {
   "cell_type": "code",
   "execution_count": 1,
   "metadata": {},
   "outputs": [],
   "source": [
    "from matplotlib import pyplot as plt\n",
    "import pandas as pd\n",
    "import re"
   ]
  },
  {
   "cell_type": "markdown",
   "metadata": {},
   "source": [
    "### Importing Data\n",
    "\n",
    "Data Sources\n",
    "\n",
    "1. [BoE Interest rate history source](https://www.bankofengland.co.uk/boeapps/database/Bank-Rate.asp)\n",
    "2. [Consumer Price Index History Annual rate source](https://www.ons.gov.uk/economy/inflationandpriceindices/timeseries/l55o/mm23)\n",
    "3. [Gapminder](https://www.gapminder.org/data/)"
   ]
  },
  {
   "cell_type": "code",
   "execution_count": 47,
   "metadata": {},
   "outputs": [
    {
     "data": {
      "text/plain": [
       "1961    3.387796\n",
       "1962    3.369205\n",
       "1963    1.589148\n",
       "1964    3.344812\n",
       "1965    5.594549\n",
       "          ...   \n",
       "2018    1.737853\n",
       "2019    2.113414\n",
       "2020    5.933147\n",
       "2021    0.016574\n",
       "2022    5.410727\n",
       "Name: United Kingdom, Length: 62, dtype: float64"
      ]
     },
     "execution_count": 47,
     "metadata": {},
     "output_type": "execute_result"
    }
   ],
   "source": [
    "# Inflation Rates from Gapminder\n",
    "\n",
    "gapminder_data = pd.read_csv(\"data/gapminder_data/API_NY.GDP.DEFL.KD.ZG_DS2_en_csv_v2_5994713.csv\", header=2)\n",
    "\n",
    "g7_country_codes = [\"USA\", \"GBR\", \"CAN\", \"FRA\", \"DEU\", \"ITA\", \"JPN\"]\n",
    "\n",
    "# Filtering for G7 countries\n",
    "gapminder_data = gapminder_data.loc[gapminder_data[\"Country Code\"].isin(g7_country_codes)]\n",
    "gapminder_data.drop([\"Unnamed: 67\", \"1960\", \"Indicator Code\", \"Indicator Name\", \"Country Code\"], axis=1, inplace=True)\n",
    "gapminder_data.set_index(\"Country Name\", inplace=True)\n",
    "gapminder_data = gapminder_data.T\n",
    "gapminder_data[\"United Kingdom\"]"
   ]
  },
  {
   "cell_type": "code",
   "execution_count": 72,
   "metadata": {},
   "outputs": [
    {
     "data": {
      "text/html": [
       "<div>\n",
       "<style scoped>\n",
       "    .dataframe tbody tr th:only-of-type {\n",
       "        vertical-align: middle;\n",
       "    }\n",
       "\n",
       "    .dataframe tbody tr th {\n",
       "        vertical-align: top;\n",
       "    }\n",
       "\n",
       "    .dataframe thead th {\n",
       "        text-align: right;\n",
       "    }\n",
       "</style>\n",
       "<table border=\"1\" class=\"dataframe\">\n",
       "  <thead>\n",
       "    <tr style=\"text-align: right;\">\n",
       "      <th></th>\n",
       "      <th>Year</th>\n",
       "      <th>Rate</th>\n",
       "    </tr>\n",
       "  </thead>\n",
       "  <tbody>\n",
       "    <tr>\n",
       "      <th>173</th>\n",
       "      <td>1989 JAN</td>\n",
       "      <td>5.7</td>\n",
       "    </tr>\n",
       "    <tr>\n",
       "      <th>174</th>\n",
       "      <td>1989 FEB</td>\n",
       "      <td>5.8</td>\n",
       "    </tr>\n",
       "    <tr>\n",
       "      <th>175</th>\n",
       "      <td>1989 MAR</td>\n",
       "      <td>5.9</td>\n",
       "    </tr>\n",
       "    <tr>\n",
       "      <th>176</th>\n",
       "      <td>1989 APR</td>\n",
       "      <td>5.6</td>\n",
       "    </tr>\n",
       "    <tr>\n",
       "      <th>177</th>\n",
       "      <td>1989 MAY</td>\n",
       "      <td>5.9</td>\n",
       "    </tr>\n",
       "    <tr>\n",
       "      <th>...</th>\n",
       "      <td>...</td>\n",
       "      <td>...</td>\n",
       "    </tr>\n",
       "    <tr>\n",
       "      <th>585</th>\n",
       "      <td>2023 MAY</td>\n",
       "      <td>7.9</td>\n",
       "    </tr>\n",
       "    <tr>\n",
       "      <th>586</th>\n",
       "      <td>2023 JUN</td>\n",
       "      <td>7.3</td>\n",
       "    </tr>\n",
       "    <tr>\n",
       "      <th>587</th>\n",
       "      <td>2023 JUL</td>\n",
       "      <td>6.4</td>\n",
       "    </tr>\n",
       "    <tr>\n",
       "      <th>588</th>\n",
       "      <td>2023 AUG</td>\n",
       "      <td>6.3</td>\n",
       "    </tr>\n",
       "    <tr>\n",
       "      <th>589</th>\n",
       "      <td>2023 SEP</td>\n",
       "      <td>6.3</td>\n",
       "    </tr>\n",
       "  </tbody>\n",
       "</table>\n",
       "<p>417 rows × 2 columns</p>\n",
       "</div>"
      ],
      "text/plain": [
       "         Year  Rate\n",
       "173  1989 JAN   5.7\n",
       "174  1989 FEB   5.8\n",
       "175  1989 MAR   5.9\n",
       "176  1989 APR   5.6\n",
       "177  1989 MAY   5.9\n",
       "..        ...   ...\n",
       "585  2023 MAY   7.9\n",
       "586  2023 JUN   7.3\n",
       "587  2023 JUL   6.4\n",
       "588  2023 AUG   6.3\n",
       "589  2023 SEP   6.3\n",
       "\n",
       "[417 rows x 2 columns]"
      ]
     },
     "execution_count": 72,
     "metadata": {},
     "output_type": "execute_result"
    }
   ],
   "source": [
    "# Interest Base Rates\n",
    "\n",
    "uk_base_rates = pd.read_csv(\"data/CPIH_ANNUAL_RATE_00:ALL_ITEMS_2015=100.csv\", header=7, names=[\"Year\", \"Rate\"])\n",
    "\n",
    "# Regex strings to match Year\n",
    "r1 = \"[0-9]{4}$\"\n",
    "r2 = \"[0-9]{4}\\s[Q]\"\n",
    "r3 = \".{8}\"\n",
    "uk_base_rates_yearly = uk_base_rates.loc[uk_base_rates[\"Year\"].str.match(r1)]\n",
    "uk_base_rates_quarterly = uk_base_rates.loc[uk_base_rates[\"Year\"].str.match(r2)]\n",
    "uk_base_rates_monthly = uk_base_rates.loc[uk_base_rates[\"Year\"].str.match(r3)]\n",
    "uk_base_rates_monthly\n"
   ]
  },
  {
   "cell_type": "markdown",
   "metadata": {},
   "source": [
    "### Exploring G7 Inflation rates"
   ]
  },
  {
   "cell_type": "code",
   "execution_count": 73,
   "metadata": {},
   "outputs": [
    {
     "data": {
      "text/plain": [
       "<Axes: title={'center': 'UK Base Rates per Year'}, xlabel='Year'>"
      ]
     },
     "execution_count": 73,
     "metadata": {},
     "output_type": "execute_result"
    },
    {
     "data": {
      "image/png": "[encoded data removed]",
      "text/plain": [
       "<Figure size 640x480 with 1 Axes>"
      ]
     },
     "metadata": {},
     "output_type": "display_data"
    }
   ],
   "source": [
    "uk_base_rates_yearly.plot(x=\"Year\", y=\"Rate\", title=\"UK Base Rates per Year\")\n",
    "gapminder_data[\"United Kingdom\"].plot(legend=True)\n"
   ]
  }
 ],
 "metadata": {
  "kernelspec": {
   "display_name": ".venv",
   "language": "python",
   "name": "python3"
  },
  "language_info": {
   "codemirror_mode": {
    "name": "ipython",
    "version": 3
   },
   "file_extension": ".py",
   "mimetype": "text/x-python",
   "name": "python",
   "nbconvert_exporter": "python",
   "pygments_lexer": "ipython3",
   "version": "3.10.12"
  }
 },
 "nbformat": 4,
 "nbformat_minor": 2
}
